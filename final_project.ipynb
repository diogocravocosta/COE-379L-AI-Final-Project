{
 "cells": [
  {
   "cell_type": "code",
   "execution_count": 1,
   "metadata": {},
   "outputs": [
    {
     "ename": "ModuleNotFoundError",
     "evalue": "No module named 'dlib'",
     "output_type": "error",
     "traceback": [
      "\u001b[1;31m---------------------------------------------------------------------------\u001b[0m",
      "\u001b[1;31mModuleNotFoundError\u001b[0m                       Traceback (most recent call last)",
      "Cell \u001b[1;32mIn[1], line 2\u001b[0m\n\u001b[0;32m      1\u001b[0m \u001b[38;5;28;01mimport\u001b[39;00m \u001b[38;5;21;01mos\u001b[39;00m\n\u001b[1;32m----> 2\u001b[0m \u001b[38;5;28;01mimport\u001b[39;00m \u001b[38;5;21;01mdlib\u001b[39;00m\n\u001b[0;32m      3\u001b[0m \u001b[38;5;28;01mimport\u001b[39;00m \u001b[38;5;21;01mcv2\u001b[39;00m\n\u001b[0;32m      4\u001b[0m \u001b[38;5;28;01mimport\u001b[39;00m \u001b[38;5;21;01mnumpy\u001b[39;00m \u001b[38;5;28;01mas\u001b[39;00m \u001b[38;5;21;01mnp\u001b[39;00m\n",
      "\u001b[1;31mModuleNotFoundError\u001b[0m: No module named 'dlib'"
     ]
    }
   ],
   "source": [
    "import os\n",
    "import dlib\n",
    "import cv2\n",
    "import numpy as np\n",
    "\n",
    "# Path to the images folder\n",
    "images_folder = 'images'\n",
    "\n",
    "# Initialize Dlib's face detector\n",
    "detector = dlib.get_frontal_face_detector()\n",
    "\n",
    "# Initialize Dlib's shape predictor with the 68 landmarks model\n",
    "shape_predictor_path = 'shape_predictor_68_face_landmarks.dat'\n",
    "predictor = dlib.shape_predictor(shape_predictor_path)\n",
    "\n",
    "# Create an empty list to store the landmarks\n",
    "landmarks_list = []\n",
    "\n",
    "# Loop through all the images in the \"images\" folder\n",
    "for filename in os.listdir(images_folder):\n",
    "    image_path = os.path.join(images_folder, filename)\n",
    "\n",
    "    # Read the image\n",
    "    image = cv2.imread(image_path)\n",
    "    \n",
    "    if image is None:\n",
    "        print(\"The following image cannot be processed: \", image_path)\n",
    "        continue  # Skip if the image cannot be read\n",
    "\n",
    "    # Detect faces in the image\n",
    "    faces = detector(image, 1)\n",
    "    \n",
    "    if len(faces) > 0:\n",
    "        print(\"A face was found on the following image: \", image_path)\n",
    "        # Assuming only one face per image, take the first detected face\n",
    "        face = faces[0]\n",
    "\n",
    "        # Predict the 68 landmarks for the face\n",
    "        shape = predictor(image, face)\n",
    "\n",
    "        # Extract the coordinates of the landmarks\n",
    "        landmarks = np.array([[shape.part(i).x, shape.part(i).y] for i in range(68)])\n",
    "\n",
    "        # Flatten the array and append to the landmarks list\n",
    "        landmarks_list.append(landmarks.flatten())\n",
    "        \n",
    "        \"\"\"\n",
    "        # Draw the landmarks on the image\n",
    "        for point in range(68):\n",
    "            x, y = shape.part(point).x, shape.part(point).y\n",
    "            cv2.circle(image, (x, y), 2, (0, 255, 0), -1)  # Draw a small green circle\n",
    "        \n",
    "        #Display the image with landmarks\n",
    "        cv2.imshow('Facial Landmarks', image)\n",
    "        cv2.waitKey(0)  # Press any key to close the window \n",
    "        cv2.destroyAllWindows()\n",
    "        \"\"\"\n",
    "\n",
    "    else: \n",
    "        print(\"A face was not found on the following image: \", image_path)\n",
    "\n",
    "\n",
    "# Convert the landmarks list to a numpy array\n",
    "land_X = np.array(landmarks_list)\n",
    "\n",
    "# Print the shape of the resulting matrix\n",
    "print(f\"land_X shape: {land_X.shape}\")\n",
    "\n",
    "# Optionally, you can save the numpy array to a file\n",
    "# np.save('landmarks.npy', land_X)\n",
    "\n",
    "\n"
   ]
  }
 ],
 "metadata": {
  "kernelspec": {
   "display_name": "base",
   "language": "python",
   "name": "python3"
  },
  "language_info": {
   "codemirror_mode": {
    "name": "ipython",
    "version": 3
   },
   "file_extension": ".py",
   "mimetype": "text/x-python",
   "name": "python",
   "nbconvert_exporter": "python",
   "pygments_lexer": "ipython3",
   "version": "3.11.3"
  }
 },
 "nbformat": 4,
 "nbformat_minor": 2
}
