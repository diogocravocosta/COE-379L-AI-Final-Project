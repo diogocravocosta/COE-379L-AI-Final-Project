{
 "cells": [
  {
   "cell_type": "code",
   "execution_count": null,
   "metadata": {},
   "outputs": [],
   "source": [
    "import pandas as pd\n",
    "import numpy as np\n",
    "import matplotlib.pyplot as plt\n",
    "from sklearn.decomposition import PCA\n",
    "\n",
    "# Load the dataset\n",
    "df = pd.read_csv(r'.\\\\FULLDATASET.csv')\n",
    "\n",
    "# Assuming the dataset contains the landmark distances as columns\n",
    "# Extract feature columns (assuming they are from 'Distance (1 to 2)' to 'Distance (67 to 68)')\n",
    "features = df.columns[1:]  # Adjust based on your dataset structure\n",
    "X = df[features].values\n",
    "\n",
    "# Apply PCA\n",
    "pca = PCA(n_components=1)\n",
    "X_pca = pca.fit_transform(X)\n",
    "\n",
    "# Get the PCA weights for the first component\n",
    "pca_weights = pca.components_[0]"
   ]
  }
 ],
 "metadata": {
  "language_info": {
   "name": "python"
  }
 },
 "nbformat": 4,
 "nbformat_minor": 2
}
