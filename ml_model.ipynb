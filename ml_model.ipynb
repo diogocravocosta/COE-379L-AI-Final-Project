{
 "cells": [
  {
   "cell_type": "code",
   "execution_count": null,
   "metadata": {},
   "outputs": [
    {
     "data": {
      "text/plain": [
       "'\\n# Standardize features before PCA\\nscaler = StandardScaler()\\nX_train_scaled = scaler.fit_transform(X_train)\\nX_test_scaled = scaler.transform(X_test)\\n\\n# Apply PCA\\npca = PCA()\\nX_train_pca = pca.fit_transform(X_train_scaled)\\nX_test_pca = pca.fit_transform(X_test_scaled)\\n'"
      ]
     },
     "execution_count": 148,
     "metadata": {},
     "output_type": "execute_result"
    }
   ],
   "source": [
    "from sklearn.decomposition import PCA\n",
    "from sklearn.preprocessing import StandardScaler\n",
    "from sklearn.neural_network import MLPClassifier\n",
    "import pandas as pd\n",
    "import numpy as np\n",
    "import matplotlib.pyplot as plt\n",
    "from sklearn.model_selection import train_test_split\n",
    "\n",
    "df_distances = pd.read_csv(r'.\\\\FULLDATASET.csv')\n",
    "\n",
    "X = df_distances.loc[:, 'Distance (1 to 2)':'Distance (67 to 68)']\n",
    "y = df_distances['Result']\n",
    "X_train, X_test, y_train, y_test = train_test_split(X, y, test_size=0.1, random_state=2024)\n",
    "\n",
    "\n"
   ]
  },
  {
   "cell_type": "code",
   "execution_count": 206,
   "metadata": {},
   "outputs": [
    {
     "name": "stdout",
     "output_type": "stream",
     "text": [
      "explained variance by each PC:  [9.36516424e-01 6.20869606e-02 1.01867130e-03 3.77944410e-04\n",
      " 7.45991684e-33]\n",
      "Index([14, 13, 12, 17, 15, 21, 19, 18, 22, 11], dtype='int64')\n"
     ]
    },
    {
     "data": {
      "image/png": "[encoded data removed]",
      "text/plain": [
       "<Figure size 640x480 with 1 Axes>"
      ]
     },
     "metadata": {},
     "output_type": "display_data"
    }
   ],
   "source": [
    "# USE PCA TO PLOT FEATURES\n",
    "# Standardize features before PCA\n",
    "scaler = StandardScaler()\n",
    "X_train_scaled = scaler.fit_transform(X_train)\n",
    "X_test_scaled = scaler.transform(X_test)\n",
    "\n",
    "# Apply PCA\n",
    "pca = PCA()\n",
    "X_train_pca = pca.fit_transform(X_train_scaled)\n",
    "X_test_pca = pca.fit_transform(X_test_scaled)\n",
    "print('explained variance by each PC: ', pca.explained_variance_ratio_)\n",
    "\n",
    "\n",
    "# plotting\n",
    "import seaborn as sns\n",
    "sns.scatterplot(x=X_train_pca[:,0], y=X_train_pca[:,1], \n",
    "                hue=y_train)\n",
    "\n",
    "print(X_train[(X_train_pca[:, 1] > 5) & (y_train == \"L\")].index)\n",
    "\n"
   ]
  },
  {
   "cell_type": "code",
   "execution_count": null,
   "metadata": {},
   "outputs": [
    {
     "name": "stdout",
     "output_type": "stream",
     "text": [
      "Decision Tree Cross-Validation Accuracy: 0.8296703296703297\n",
      "Decision Tree Train Accuracy: 0.975609756097561\n",
      "Decision Tree Test Accuracy: 1.0\n",
      "Random Forest Cross-Validation Accuracy: 0.9029304029304029\n",
      "Random Forest Train Accuracy: 0.975609756097561\n",
      "Random Forest Test Accuracy: 1.0\n",
      "Polynomial Kernel Cross-Validation Accuracy: 0.6849816849816851\n",
      "Polynomial Kernel Train Accuracy: 1.0\n",
      "Polynomial Kernel Test Accuracy: 1.0\n",
      "Radial Basis Function Kernel Cross-Validation Accuracy: 0.7326007326007327\n",
      "Radial Basis Function Kernel Train Accuracy: 0.7317073170731707\n",
      "Radial Basis Function Kernel Test Accuracy: 1.0\n",
      "Neural network Cross-Validation Accuracy: 0.7326007326007327\n",
      "Neural network Train Accuracy: 0.7317073170731707\n",
      "Neural network Test Accuracy: 1.0\n"
     ]
    }
   ],
   "source": [
    "from sklearn.linear_model import LogisticRegression\n",
    "from sklearn.tree import DecisionTreeClassifier\n",
    "from sklearn.model_selection import cross_val_score\n",
    "\n",
    "\"\"\"\n",
    "# Train a model with one principal component\n",
    "X_train_pca_single = X_train_pca[:, :1]  # Only the first component\n",
    "X_test_pca_single = X_test_pca[:, :1]\n",
    "\n",
    "# Logistic Regression\n",
    "log_reg = LogisticRegression(random_state=50, penalty='l2', C=1.)\n",
    "log_reg.fit(X_train_pca_single, y_train)\n",
    "log_reg_scores = cross_val_score(log_reg, X_train, y_train, cv=3)\n",
    "print(\"Logistic Regression Cross-Validation Accuracy:\", log_reg_scores.mean())\n",
    "print(\"Logistic Regression Train Accuracy:\", log_reg.score(X_train_pca_single, y_train))\n",
    "print(\"Logistic Regression Test Accuracy:\", log_reg.score(X_test_pca_single, y_test))\n",
    "\"\"\"\n",
    "\n",
    "# Decision Tree\n",
    "decision_tree = DecisionTreeClassifier(random_state=50, max_depth=10, min_samples_split=5, min_samples_leaf=2)\n",
    "decision_tree_scores = cross_val_score(decision_tree, X_train, y_train, cv=3)\n",
    "decision_tree.fit(X_train, y_train)\n",
    "print(\"Decision Tree Cross-Validation Accuracy:\", decision_tree_scores.mean())\n",
    "print(\"Decision Tree Train Accuracy:\", decision_tree.score(X_train, y_train))\n",
    "print(\"Decision Tree Test Accuracy:\", decision_tree.score(X_test, y_test))\n",
    "\n",
    "# Random forest\n",
    "from sklearn.ensemble import RandomForestClassifier\n",
    "# set up model: use all default values for tuning parameters\n",
    "rand_for = RandomForestClassifier(random_state=2024, n_estimators=100, max_depth=10, min_samples_split=5, min_samples_leaf=2)\n",
    "# fit the model\n",
    "rand_for_scores = cross_val_score(rand_for, X_train, y_train, cv=3)\n",
    "rand_for.fit(X_train, y_train)\n",
    "print(\"Random Forest Cross-Validation Accuracy:\", rand_for_scores.mean())\n",
    "print(\"Random Forest Train Accuracy:\", rand_for.score(X_train, y_train))\n",
    "print(\"Random Forest Test Accuracy:\", rand_for.score(X_test, y_test))\n",
    "\n",
    "# Kernel polynomial\n",
    "from sklearn import svm\n",
    "kernel = \"poly\"\n",
    "degree = 4\n",
    "gamma = 2\n",
    "# Train the SVC\n",
    "poly_ker = svm.SVC(kernel=kernel, degree=degree, gamma=gamma, C=0.1, probability=True).fit(X_train, y_train)\n",
    "poly_ker_scores = cross_val_score(poly_ker, X_train, y_train, cv=3)\n",
    "print(\"Polynomial Kernel Cross-Validation Accuracy:\", poly_ker_scores.mean())\n",
    "print(\"Polynomial Kernel Train Accuracy:\", poly_ker.score(X_train, y_train))\n",
    "print(\"Polynomial Kernel Test Accuracy:\", poly_ker.score(X_test, y_test))\n",
    "\n",
    "\n",
    "# Radial basis function kernel\n",
    "kernel = \"rbf\"\n",
    "# Train the SVC\n",
    "gamma = 2\n",
    "rbf_ker = svm.SVC(kernel=kernel, gamma=gamma, C=0.1, probability=True).fit(X_train, y_train)\n",
    "rbf_ker_scores = cross_val_score(rbf_ker, X_train, y_train, cv=3)\n",
    "print(\"Radial Basis Function Kernel Cross-Validation Accuracy:\", rbf_ker_scores.mean())\n",
    "print(\"Radial Basis Function Kernel Train Accuracy:\", rbf_ker.score(X_train, y_train))\n",
    "print(\"Radial Basis Function Kernel Test Accuracy:\", rbf_ker.score(X_test, y_test))\n",
    "\n",
    "\n",
    "# neural network classification\n",
    "mlp_net = MLPClassifier(random_state=2024, max_iter=100000, alpha=0.0001, early_stopping=True).fit(X_train, y_train)\n",
    "mlp_net_scores = cross_val_score(mlp_net, X_train, y_train, cv=3)\n",
    "print(\"Neural network Cross-Validation Accuracy:\", mlp_net_scores.mean())\n",
    "print(\"Neural network Train Accuracy:\", mlp_net.score(X_train, y_train))\n",
    "print(\"Neural network Test Accuracy:\", mlp_net.score(X_test, y_test))\n",
    "\n"
   ]
  },
  {
   "cell_type": "code",
   "execution_count": 196,
   "metadata": {},
   "outputs": [
    {
     "name": "stdout",
     "output_type": "stream",
     "text": [
      "This person's outcome in the US Elections is: \n",
      "Prediction and probability for decision tree is:  ['W'] [[0. 1.]]\n",
      "Prediction and probability for random forest is:  ['W'] [[0.33783333 0.66216667]]\n",
      "Prediction and probability for polynomial kernel is:  ['W'] [[0.71638756 0.28361244]]\n",
      "Prediction and probability for rbf kernel is:  ['L'] [[0.75508513 0.24491487]]\n",
      "Prediction and probability for mlp neural network is:  ['L'] [[1. 0.]]\n"
     ]
    },
    {
     "name": "stderr",
     "output_type": "stream",
     "text": [
      "C:\\Users\\tomas\\AppData\\Roaming\\Python\\Python311\\site-packages\\sklearn\\base.py:493: UserWarning: X does not have valid feature names, but DecisionTreeClassifier was fitted with feature names\n",
      "  warnings.warn(\n",
      "C:\\Users\\tomas\\AppData\\Roaming\\Python\\Python311\\site-packages\\sklearn\\base.py:493: UserWarning: X does not have valid feature names, but DecisionTreeClassifier was fitted with feature names\n",
      "  warnings.warn(\n",
      "C:\\Users\\tomas\\AppData\\Roaming\\Python\\Python311\\site-packages\\sklearn\\base.py:493: UserWarning: X does not have valid feature names, but RandomForestClassifier was fitted with feature names\n",
      "  warnings.warn(\n",
      "C:\\Users\\tomas\\AppData\\Roaming\\Python\\Python311\\site-packages\\sklearn\\base.py:493: UserWarning: X does not have valid feature names, but RandomForestClassifier was fitted with feature names\n",
      "  warnings.warn(\n",
      "C:\\Users\\tomas\\AppData\\Roaming\\Python\\Python311\\site-packages\\sklearn\\base.py:493: UserWarning: X does not have valid feature names, but SVC was fitted with feature names\n",
      "  warnings.warn(\n",
      "C:\\Users\\tomas\\AppData\\Roaming\\Python\\Python311\\site-packages\\sklearn\\base.py:493: UserWarning: X does not have valid feature names, but SVC was fitted with feature names\n",
      "  warnings.warn(\n",
      "C:\\Users\\tomas\\AppData\\Roaming\\Python\\Python311\\site-packages\\sklearn\\base.py:493: UserWarning: X does not have valid feature names, but SVC was fitted with feature names\n",
      "  warnings.warn(\n",
      "C:\\Users\\tomas\\AppData\\Roaming\\Python\\Python311\\site-packages\\sklearn\\base.py:493: UserWarning: X does not have valid feature names, but SVC was fitted with feature names\n",
      "  warnings.warn(\n",
      "C:\\Users\\tomas\\AppData\\Roaming\\Python\\Python311\\site-packages\\sklearn\\base.py:493: UserWarning: X does not have valid feature names, but MLPClassifier was fitted with feature names\n",
      "  warnings.warn(\n",
      "C:\\Users\\tomas\\AppData\\Roaming\\Python\\Python311\\site-packages\\sklearn\\base.py:493: UserWarning: X does not have valid feature names, but MLPClassifier was fitted with feature names\n",
      "  warnings.warn(\n"
     ]
    }
   ],
   "source": [
    "import dlib\n",
    "import cv2\n",
    "import numpy as np\n",
    "from itertools import combinations\n",
    "import os\n",
    "\n",
    "def calculate_euclidean_distances(image_path):\n",
    "    \"\"\"\n",
    "    Calculate Euclidean distances between all pairs of facial landmarks from a given image.\n",
    "    \n",
    "    Parameters:\n",
    "        image_path (str): Path to the image file.\n",
    "\n",
    "    Returns:\n",
    "        np.ndarray: A 2D array with shape (1, 2278) containing Euclidean distances.\n",
    "    \"\"\"\n",
    "    # Load the image\n",
    "    image = cv2.imread(image_path)\n",
    "    if image is None:\n",
    "        raise ValueError(\"Image not found or unable to load. Check the image path.\")\n",
    "\n",
    "    # Initialize dlib's face detector and shape predictor\n",
    "    detector = dlib.get_frontal_face_detector()\n",
    "    predictor = dlib.shape_predictor(\"shape_predictor_68_face_landmarks.dat\")  # Make sure to download this file\n",
    "\n",
    "    # Detect faces in the image\n",
    "    gray = cv2.cvtColor(image, cv2.COLOR_BGR2GRAY)\n",
    "    faces = detector(gray)\n",
    "    if len(faces) == 0:\n",
    "        raise ValueError(\"No face detected in the image.\")\n",
    "\n",
    "    # Assume only one face and extract the first detected face\n",
    "    face = faces[0]\n",
    "    landmarks = predictor(gray, face)\n",
    "\n",
    "    # Extract (x, y) coordinates of the 68 landmarks\n",
    "    points = np.array([[landmarks.part(i).x, landmarks.part(i).y] for i in range(68)])\n",
    "\n",
    "    # Plot the landmarks on the image\n",
    "    for (x, y) in points:\n",
    "        cv2.circle(image, (x, y), radius=2, color=(0, 255, 0), thickness=-1)  # Green dots\n",
    "\n",
    "    # Display the image with landmarks\n",
    "    cv2.imshow(\"Image with Landmarks\", image)\n",
    "    cv2.waitKey(0)  # Wait for a key press to close the window\n",
    "    cv2.destroyAllWindows()\n",
    "\n",
    "    # Calculate Euclidean distances between all pairs of landmarks\n",
    "    distances = []\n",
    "    for (i, j) in combinations(range(68), 2):\n",
    "        dist = np.linalg.norm(points[i] - points[j])\n",
    "        distances.append(dist)\n",
    "\n",
    "    # Convert to 2D array with shape (1, 2278)\n",
    "    distances_array = np.array(distances).reshape(1, -1)\n",
    "\n",
    "    print(\"Prediction and probability for decision tree is: \", decision_tree.predict(distances_array), \n",
    "          decision_tree.predict_proba(distances_array))\n",
    "    print(\"Prediction and probability for random forest is: \", rand_for.predict(distances_array), \n",
    "          rand_for.predict_proba(distances_array))\n",
    "    print(\"Prediction and probability for polynomial kernel is: \", poly_ker.predict(distances_array), \n",
    "          poly_ker.predict_proba(distances_array))\n",
    "    print(\"Prediction and probability for rbf kernel is: \", rbf_ker.predict(distances_array), \n",
    "          rbf_ker.predict_proba(distances_array))\n",
    "    print(\"Prediction and probability for mlp neural network is: \", mlp_net.predict(distances_array), \n",
    "          mlp_net.predict_proba(distances_array))\n",
    "\n",
    "\n",
    "\n",
    "\n",
    "#image_path = os.path.join(\"images_trump\", \"nose_size_2.png\")\n",
    "image_path = os.path.join(\"images_class\", \"ines_smile.jpg\")\n",
    "#image_path = os.path.join(\"images\", \"1_2.jpg\")\n",
    "print(\"This person's outcome in the US Elections is: \")\n",
    "calculate_euclidean_distances(image_path = image_path)\n"
   ]
  }
 ],
 "metadata": {
  "kernelspec": {
   "display_name": "base",
   "language": "python",
   "name": "python3"
  },
  "language_info": {
   "codemirror_mode": {
    "name": "ipython",
    "version": 3
   },
   "file_extension": ".py",
   "mimetype": "text/x-python",
   "name": "python",
   "nbconvert_exporter": "python",
   "pygments_lexer": "ipython3",
   "version": "3.11.7"
  }
 },
 "nbformat": 4,
 "nbformat_minor": 2
}
