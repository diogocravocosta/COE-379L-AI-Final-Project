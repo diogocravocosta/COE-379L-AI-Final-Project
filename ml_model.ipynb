{
 "cells": [
  {
   "cell_type": "code",
   "execution_count": null,
   "metadata": {},
   "outputs": [
    {
     "name": "stdout",
     "output_type": "stream",
     "text": [
      "['W' 'L' 'W' 'W' 'L' 'W' 'L' 'W' 'W' 'W' 'L' 'L']\n",
      "\n",
      " 0     W\n",
      "2     W\n",
      "4     W\n",
      "6     W\n",
      "8     W\n",
      "10    W\n",
      "12    L\n",
      "14    L\n",
      "16    L\n",
      "18    L\n",
      "20    L\n",
      "22    L\n",
      "Name: Result, dtype: object\n"
     ]
    },
    {
     "data": {
      "text/plain": [
       "0.5833333333333334"
      ]
     },
     "execution_count": 6,
     "metadata": {},
     "output_type": "execute_result"
    }
   ],
   "source": [
    "from sklearn.neural_network import MLPClassifier\n",
    "import pandas as pd\n",
    "import numpy as np\n",
    "\n",
    "df_distances = pd.read_csv(r'.\\\\FULLDATASET.csv')\n",
    "\n",
    "even = np.arange(0,23,2)\n",
    "odd = np.arange(1,23,2)\n",
    "\n",
    "X_train = df_distances.loc[odd, 'Distance (1 to 2)':'Distance (67 to 68)']\n",
    "y_train = df_distances.loc[odd,'Result']\n",
    "\n",
    "X_test = df_distances.loc[even, 'Distance (1 to 2)':'Distance (67 to 68)']\n",
    "y_test = df_distances.loc[even,'Result']\n",
    "\n",
    "cl = MLPClassifier(random_state=50, max_iter=10000).fit(X_train, y_train)\n",
    "\n",
    "print(cl.predict(X_test))\n",
    "print('\\n',y_test.T)\n",
    "cl.score(X_test,y_test)"
   ]
  }
 ],
 "metadata": {
  "kernelspec": {
   "display_name": "facial_elections",
   "language": "python",
   "name": "python3"
  },
  "language_info": {
   "codemirror_mode": {
    "name": "ipython",
    "version": 3
   },
   "file_extension": ".py",
   "mimetype": "text/x-python",
   "name": "python",
   "nbconvert_exporter": "python",
   "pygments_lexer": "ipython3",
   "version": "3.9.18"
  }
 },
 "nbformat": 4,
 "nbformat_minor": 2
}
