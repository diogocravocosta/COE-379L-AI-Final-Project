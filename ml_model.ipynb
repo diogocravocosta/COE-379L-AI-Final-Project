{
 "cells": [
  {
   "cell_type": "code",
   "execution_count": 26,
   "metadata": {},
   "outputs": [
    {
     "name": "stdout",
     "output_type": "stream",
     "text": [
      "['L' 'L' 'L' 'L' 'L']\n",
      "\n",
      " 37    L\n",
      "16    L\n",
      "41    L\n",
      "39    L\n",
      "24    L\n",
      "Name: Result, dtype: object\n"
     ]
    },
    {
     "data": {
      "text/plain": [
       "1.0"
      ]
     },
     "execution_count": 26,
     "metadata": {},
     "output_type": "execute_result"
    }
   ],
   "source": [
    "from sklearn.decomposition import PCA\n",
    "from sklearn.preprocessing import StandardScaler\n",
    "from sklearn.neural_network import MLPClassifier\n",
    "import pandas as pd\n",
    "import numpy as np\n",
    "import matplotlib.pyplot as plt\n",
    "from sklearn.model_selection import train_test_split\n",
    "\n",
    "df_distances = pd.read_csv(r'.\\\\FULLDATASET.csv')\n",
    "\n",
    "\n",
    "\"\"\"\n",
    "odd = np.arange(0,23,2)\n",
    "even = np.arange(1,23,2)\n",
    "X_train = df_distances.loc[odd, 'Distance (1 to 2)':'Distance (67 to 68)']\n",
    "y_train = df_distances.loc[odd,'Result']\n",
    "\n",
    "X_test = df_distances.loc[even, 'Distance (1 to 2)':'Distance (67 to 68)']\n",
    "y_test = df_distances.loc[even,'Result']\n",
    "\"\"\"\n",
    "\n",
    "X = df_distances.loc[:, 'Distance (1 to 2)':'Distance (67 to 68)']\n",
    "y = df_distances['Result']\n",
    "X_train, X_test, y_train, y_test = train_test_split(X, y, test_size=0.1, random_state=2024)\n",
    "\n",
    "\n",
    "# Standardize features before PCA\n",
    "scaler = StandardScaler()\n",
    "X_train_scaled = scaler.fit_transform(X_train)\n",
    "X_test_scaled = scaler.transform(X_test)\n",
    "\n",
    "# Apply PCA\n",
    "pca = PCA()\n",
    "X_train_pca = pca.fit_transform(X_train_scaled)\n",
    "X_test_pca = pca.fit_transform(X_test_scaled)\n",
    "\n",
    "cl = MLPClassifier(random_state=50, max_iter=10000).fit(X_train, y_train)\n",
    "\n",
    "print(cl.predict(X_test))\n",
    "print('\\n',y_test.T)\n",
    "cl.score(X_test,y_test)"
   ]
  },
  {
   "cell_type": "code",
   "execution_count": null,
   "metadata": {},
   "outputs": [
    {
     "name": "stderr",
     "output_type": "stream",
     "text": [
      "C:\\Users\\tomas\\AppData\\Roaming\\Python\\Python311\\site-packages\\sklearn\\linear_model\\_logistic.py:469: ConvergenceWarning: lbfgs failed to converge (status=1):\n",
      "STOP: TOTAL NO. of ITERATIONS REACHED LIMIT.\n",
      "\n",
      "Increase the number of iterations (max_iter) or scale the data as shown in:\n",
      "    https://scikit-learn.org/stable/modules/preprocessing.html\n",
      "Please also refer to the documentation for alternative solver options:\n",
      "    https://scikit-learn.org/stable/modules/linear_model.html#logistic-regression\n",
      "  n_iter_i = _check_optimize_result(\n"
     ]
    },
    {
     "name": "stdout",
     "output_type": "stream",
     "text": [
      "Logistic Regression Accuracy: 1.0\n",
      "Decision Tree Accuracy: 1.0\n",
      "Random Forest Accuracy: 1.0\n",
      "Calculated distances: [[ 52.15361924 103.3924562  154.93547044 ...  28.16025568  56.0357029\n",
      "   28.44292531]]\n"
     ]
    }
   ],
   "source": [
    "from sklearn.linear_model import LogisticRegression\n",
    "from sklearn.tree import DecisionTreeClassifier\n",
    "\n",
    "# Train a model with one principal component\n",
    "X_train_pca_single = X_train_pca[:, :1]  # Only the first component\n",
    "X_test_pca_single = X_test_pca[:, :1]\n",
    "\n",
    "# Logistic Regression\n",
    "log_reg = LogisticRegression(random_state=50)\n",
    "log_reg.fit(X_train, y_train)\n",
    "print(\"Logistic Regression Accuracy:\", log_reg.score(X_test, y_test))\n",
    "\n",
    "# Decision Tree\n",
    "decision_tree = DecisionTreeClassifier(random_state=50)\n",
    "decision_tree.fit(X_train, y_train)\n",
    "print(\"Decision Tree Accuracy:\", decision_tree.score(X_test, y_test))\n",
    "\n",
    "# Random forest\n",
    "from sklearn.ensemble import RandomForestClassifier\n",
    "# set up model: use all default values for tuning parameters\n",
    "rand_for = RandomForestClassifier(random_state=2024)\n",
    "# fit the model\n",
    "rand_for.fit(X_train, y_train)\n",
    "print(\"Random Forest Accuracy:\", rand_for.score(X_test, y_test))\n",
    "\n",
    "\n",
    "\n"
   ]
  },
  {
   "cell_type": "code",
   "execution_count": 79,
   "metadata": {},
   "outputs": [
    {
     "name": "stdout",
     "output_type": "stream",
     "text": [
      "This person's outcome in the US Elections is (array(['W'], dtype=object), array([[0.48, 0.52]]))\n"
     ]
    },
    {
     "name": "stderr",
     "output_type": "stream",
     "text": [
      "C:\\Users\\tomas\\AppData\\Roaming\\Python\\Python311\\site-packages\\sklearn\\base.py:493: UserWarning: X does not have valid feature names, but RandomForestClassifier was fitted with feature names\n",
      "  warnings.warn(\n",
      "C:\\Users\\tomas\\AppData\\Roaming\\Python\\Python311\\site-packages\\sklearn\\base.py:493: UserWarning: X does not have valid feature names, but RandomForestClassifier was fitted with feature names\n",
      "  warnings.warn(\n"
     ]
    }
   ],
   "source": [
    "import dlib\n",
    "import cv2\n",
    "import numpy as np\n",
    "from itertools import combinations\n",
    "import os\n",
    "\n",
    "def calculate_euclidean_distances(image_path):\n",
    "    \"\"\"\n",
    "    Calculate Euclidean distances between all pairs of facial landmarks from a given image.\n",
    "    \n",
    "    Parameters:\n",
    "        image_path (str): Path to the image file.\n",
    "\n",
    "    Returns:\n",
    "        np.ndarray: A 2D array with shape (1, 2278) containing Euclidean distances.\n",
    "    \"\"\"\n",
    "    # Load the image\n",
    "    image = cv2.imread(image_path)\n",
    "    if image is None:\n",
    "        raise ValueError(\"Image not found or unable to load. Check the image path.\")\n",
    "\n",
    "    # Initialize dlib's face detector and shape predictor\n",
    "    detector = dlib.get_frontal_face_detector()\n",
    "    predictor = dlib.shape_predictor(\"shape_predictor_68_face_landmarks.dat\")  # Make sure to download this file\n",
    "\n",
    "    # Detect faces in the image\n",
    "    gray = cv2.cvtColor(image, cv2.COLOR_BGR2GRAY)\n",
    "    faces = detector(gray)\n",
    "    if len(faces) == 0:\n",
    "        raise ValueError(\"No face detected in the image.\")\n",
    "\n",
    "    # Assume only one face and extract the first detected face\n",
    "    face = faces[0]\n",
    "    landmarks = predictor(gray, face)\n",
    "\n",
    "    # Extract (x, y) coordinates of the 68 landmarks\n",
    "    points = np.array([[landmarks.part(i).x, landmarks.part(i).y] for i in range(68)])\n",
    "\n",
    "    # Plot the landmarks on the image\n",
    "    for (x, y) in points:\n",
    "        cv2.circle(image, (x, y), radius=2, color=(0, 255, 0), thickness=-1)  # Green dots\n",
    "\n",
    "    # Display the image with landmarks\n",
    "    cv2.imshow(\"Image with Landmarks\", image)\n",
    "    cv2.waitKey(0)  # Wait for a key press to close the window\n",
    "    cv2.destroyAllWindows()\n",
    "\n",
    "    # Calculate Euclidean distances between all pairs of landmarks\n",
    "    distances = []\n",
    "    for (i, j) in combinations(range(68), 2):\n",
    "        dist = np.linalg.norm(points[i] - points[j])\n",
    "        distances.append(dist)\n",
    "\n",
    "    # Convert to 2D array with shape (1, 2278)\n",
    "    distances_array = np.array(distances).reshape(1, -1)\n",
    "\n",
    "    return rand_for.predict(distances_array), rand_for.predict_proba(distances_array)\n",
    "\n",
    "\n",
    "\n",
    "image_path = os.path.join(\"images_comparison\", \"eyebrow_position_1.png\")\n",
    "#image_path = os.path.join(\"images\", \"1_2.jpg\")\n",
    "print(\"This person's outcome in the US Elections is\", calculate_euclidean_distances(image_path = image_path))\n"
   ]
  }
 ],
 "metadata": {
  "kernelspec": {
   "display_name": "base",
   "language": "python",
   "name": "python3"
  },
  "language_info": {
   "codemirror_mode": {
    "name": "ipython",
    "version": 3
   },
   "file_extension": ".py",
   "mimetype": "text/x-python",
   "name": "python",
   "nbconvert_exporter": "python",
   "pygments_lexer": "ipython3",
   "version": "3.11.7"
  }
 },
 "nbformat": 4,
 "nbformat_minor": 2
}
